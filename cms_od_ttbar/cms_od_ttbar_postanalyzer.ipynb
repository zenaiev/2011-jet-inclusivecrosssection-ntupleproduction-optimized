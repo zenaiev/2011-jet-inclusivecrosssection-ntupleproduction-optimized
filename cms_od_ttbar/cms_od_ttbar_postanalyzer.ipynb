{
  "nbformat": 4,
  "nbformat_minor": 0,
  "metadata": {
    "colab": {
      "provenance": [],
      "authorship_tag": "ABX9TyM/vnHaIfJDZufOKqUlvWJx",
      "include_colab_link": true
    },
    "kernelspec": {
      "name": "python3",
      "display_name": "Python 3"
    },
    "language_info": {
      "name": "python"
    }
  },
  "cells": [
    {
      "cell_type": "markdown",
      "metadata": {
        "id": "view-in-github",
        "colab_type": "text"
      },
      "source": [
        "<a href=\"https://colab.research.google.com/github/zenaiev/2011-jet-inclusivecrosssection-ntupleproduction-optimized/blob/master/cms_od_ttbar/cms_od_ttbar_postanalyzer.ipynb\" target=\"_parent\"><img src=\"https://colab.research.google.com/assets/colab-badge.svg\" alt=\"Open In Colab\"/></a>"
      ]
    },
    {
      "cell_type": "markdown",
      "source": [
        "Install gsl (needed for ROOT libMathMore.so library)"
      ],
      "metadata": {
        "id": "QoOthB6jHU7p"
      }
    },
    {
      "cell_type": "code",
      "source": [
        "!apt-get update\n",
        "!apt-get install -y libgsl-dev"
      ],
      "metadata": {
        "colab": {
          "base_uri": "https://localhost:8080/"
        },
        "id": "KxQ-K5tEFo04",
        "outputId": "1d7b6616-e211-45b7-ed81-6d7031cd4927"
      },
      "execution_count": 1,
      "outputs": [
        {
          "output_type": "stream",
          "name": "stdout",
          "text": [
            "\r0% [Working]\r            \rGet:1 https://developer.download.nvidia.com/compute/cuda/repos/ubuntu2204/x86_64  InRelease [1,581 B]\n",
            "\r0% [Waiting for headers] [Waiting for headers] [Waiting for headers] [Waiting for headers] [1 InRele\r                                                                                                    \rGet:2 https://cloud.r-project.org/bin/linux/ubuntu jammy-cran40/ InRelease [3,626 B]\n",
            "\r0% [Waiting for headers] [Waiting for headers] [2 InRelease 3,626 B/3,626 B 100%] [Waiting for heade\r0% [Waiting for headers] [Waiting for headers] [2 InRelease 3,626 B/3,626 B 100%] [Waiting for heade\r0% [Waiting for headers] [Waiting for headers] [Waiting for headers] [Connected to ppa.launchpadcont\r                                                                                                    \rHit:3 http://archive.ubuntu.com/ubuntu jammy InRelease\n",
            "Get:4 http://security.ubuntu.com/ubuntu jammy-security InRelease [129 kB]\n",
            "Get:5 https://r2u.stat.illinois.edu/ubuntu jammy InRelease [6,555 B]\n",
            "Get:6 http://archive.ubuntu.com/ubuntu jammy-updates InRelease [128 kB]\n",
            "Get:7 https://developer.download.nvidia.com/compute/cuda/repos/ubuntu2204/x86_64  Packages [1,172 kB]\n",
            "Get:8 https://ppa.launchpadcontent.net/deadsnakes/ppa/ubuntu jammy InRelease [18.1 kB]\n",
            "Hit:9 https://ppa.launchpadcontent.net/graphics-drivers/ppa/ubuntu jammy InRelease\n",
            "Get:10 http://archive.ubuntu.com/ubuntu jammy-backports InRelease [127 kB]\n",
            "Hit:11 https://ppa.launchpadcontent.net/ubuntugis/ppa/ubuntu jammy InRelease\n",
            "Get:12 https://r2u.stat.illinois.edu/ubuntu jammy/main amd64 Packages [2,613 kB]\n",
            "Get:13 https://r2u.stat.illinois.edu/ubuntu jammy/main all Packages [8,487 kB]\n",
            "Get:14 http://security.ubuntu.com/ubuntu jammy-security/restricted amd64 Packages [3,318 kB]\n",
            "Get:15 http://security.ubuntu.com/ubuntu jammy-security/universe amd64 Packages [1,223 kB]\n",
            "Get:16 http://security.ubuntu.com/ubuntu jammy-security/main amd64 Packages [2,449 kB]\n",
            "Get:17 http://security.ubuntu.com/ubuntu jammy-security/multiverse amd64 Packages [45.2 kB]\n",
            "Get:18 https://ppa.launchpadcontent.net/deadsnakes/ppa/ubuntu jammy/main amd64 Packages [34.2 kB]\n",
            "Get:19 http://archive.ubuntu.com/ubuntu jammy-updates/universe amd64 Packages [1,512 kB]\n",
            "Get:20 http://archive.ubuntu.com/ubuntu jammy-updates/multiverse amd64 Packages [52.2 kB]\n",
            "Get:21 http://archive.ubuntu.com/ubuntu jammy-updates/restricted amd64 Packages [3,408 kB]\n",
            "Get:22 http://archive.ubuntu.com/ubuntu jammy-updates/main amd64 Packages [2,732 kB]\n",
            "Fetched 27.5 MB in 11s (2,514 kB/s)\n",
            "Reading package lists... Done\n",
            "W: Skipping acquire of configured file 'main/source/Sources' as repository 'https://r2u.stat.illinois.edu/ubuntu jammy InRelease' does not seem to provide it (sources.list entry misspelt?)\n",
            "Reading package lists... Done\n",
            "Building dependency tree... Done\n",
            "Reading state information... Done\n",
            "The following additional packages will be installed:\n",
            "  libgsl27 libgslcblas0\n",
            "Suggested packages:\n",
            "  gsl-ref-psdoc | gsl-doc-pdf | gsl-doc-info | gsl-ref-html\n",
            "The following NEW packages will be installed:\n",
            "  libgsl-dev libgsl27 libgslcblas0\n",
            "0 upgraded, 3 newly installed, 0 to remove and 57 not upgraded.\n",
            "Need to get 2,351 kB of archives.\n",
            "After this operation, 10.8 MB of additional disk space will be used.\n",
            "Get:1 http://archive.ubuntu.com/ubuntu jammy/universe amd64 libgslcblas0 amd64 2.7.1+dfsg-3 [94.4 kB]\n",
            "Get:2 http://archive.ubuntu.com/ubuntu jammy/universe amd64 libgsl27 amd64 2.7.1+dfsg-3 [1,000 kB]\n",
            "Get:3 http://archive.ubuntu.com/ubuntu jammy/universe amd64 libgsl-dev amd64 2.7.1+dfsg-3 [1,257 kB]\n",
            "Fetched 2,351 kB in 1s (1,726 kB/s)\n",
            "Selecting previously unselected package libgslcblas0:amd64.\n",
            "(Reading database ... 123629 files and directories currently installed.)\n",
            "Preparing to unpack .../libgslcblas0_2.7.1+dfsg-3_amd64.deb ...\n",
            "Unpacking libgslcblas0:amd64 (2.7.1+dfsg-3) ...\n",
            "Selecting previously unselected package libgsl27:amd64.\n",
            "Preparing to unpack .../libgsl27_2.7.1+dfsg-3_amd64.deb ...\n",
            "Unpacking libgsl27:amd64 (2.7.1+dfsg-3) ...\n",
            "Selecting previously unselected package libgsl-dev.\n",
            "Preparing to unpack .../libgsl-dev_2.7.1+dfsg-3_amd64.deb ...\n",
            "Unpacking libgsl-dev (2.7.1+dfsg-3) ...\n",
            "Setting up libgslcblas0:amd64 (2.7.1+dfsg-3) ...\n",
            "Setting up libgsl27:amd64 (2.7.1+dfsg-3) ...\n",
            "Setting up libgsl-dev (2.7.1+dfsg-3) ...\n",
            "Processing triggers for man-db (2.10.2-1) ...\n",
            "Processing triggers for libc-bin (2.35-0ubuntu3.4) ...\n",
            "/sbin/ldconfig.real: /usr/local/lib/libur_adapter_level_zero.so.0 is not a symbolic link\n",
            "\n",
            "/sbin/ldconfig.real: /usr/local/lib/libtbbbind_2_5.so.3 is not a symbolic link\n",
            "\n",
            "/sbin/ldconfig.real: /usr/local/lib/libtbb.so.12 is not a symbolic link\n",
            "\n",
            "/sbin/ldconfig.real: /usr/local/lib/libtbbbind_2_0.so.3 is not a symbolic link\n",
            "\n",
            "/sbin/ldconfig.real: /usr/local/lib/libur_loader.so.0 is not a symbolic link\n",
            "\n",
            "/sbin/ldconfig.real: /usr/local/lib/libtbbmalloc.so.2 is not a symbolic link\n",
            "\n",
            "/sbin/ldconfig.real: /usr/local/lib/libtbbbind.so.3 is not a symbolic link\n",
            "\n",
            "/sbin/ldconfig.real: /usr/local/lib/libtcm_debug.so.1 is not a symbolic link\n",
            "\n",
            "/sbin/ldconfig.real: /usr/local/lib/libhwloc.so.15 is not a symbolic link\n",
            "\n",
            "/sbin/ldconfig.real: /usr/local/lib/libtcm.so.1 is not a symbolic link\n",
            "\n",
            "/sbin/ldconfig.real: /usr/local/lib/libur_adapter_opencl.so.0 is not a symbolic link\n",
            "\n",
            "/sbin/ldconfig.real: /usr/local/lib/libumf.so.0 is not a symbolic link\n",
            "\n",
            "/sbin/ldconfig.real: /usr/local/lib/libtbbmalloc_proxy.so.2 is not a symbolic link\n",
            "\n"
          ]
        }
      ]
    },
    {
      "cell_type": "markdown",
      "source": [
        "Install ROOT"
      ],
      "metadata": {
        "id": "EFjWVNNgBUgr"
      }
    },
    {
      "cell_type": "code",
      "execution_count": 2,
      "metadata": {
        "colab": {
          "base_uri": "https://localhost:8080/"
        },
        "id": "aa2-Aal0BK87",
        "outputId": "1ba622e7-9a97-48f2-c312-9a16b422e87f"
      },
      "outputs": [
        {
          "output_type": "stream",
          "name": "stdout",
          "text": [
            "--2024-11-21 01:01:47--  https://root.cern/download/root_v6.32.04.Linux-ubuntu22.04-x86_64-gcc11.4.tar.gz\n",
            "Resolving root.cern (root.cern)... 188.184.49.144, 2001:1458:d00:55::100:c\n",
            "Connecting to root.cern (root.cern)|188.184.49.144|:443... connected.\n",
            "HTTP request sent, awaiting response... 200 OK\n",
            "Length: 300006880 (286M) [application/x-gzip]\n",
            "Saving to: ‘root_v6.32.04.Linux-ubuntu22.04-x86_64-gcc11.4.tar.gz’\n",
            "\n",
            "root_v6.32.04.Linux 100%[===================>] 286.11M  14.6MB/s    in 22s     \n",
            "\n",
            "2024-11-21 01:02:10 (12.8 MB/s) - ‘root_v6.32.04.Linux-ubuntu22.04-x86_64-gcc11.4.tar.gz’ saved [300006880/300006880]\n",
            "\n"
          ]
        }
      ],
      "source": [
        "!wget https://root.cern/download/root_v6.32.04.Linux-ubuntu22.04-x86_64-gcc11.4.tar.gz\n",
        "!tar -xzf root_v6.32.04.Linux-ubuntu22.04-x86_64-gcc11.4.tar.gz\n",
        "import os\n",
        "pwd = os.getcwd()\n",
        "os.environ['ROOTSYS'] = pwd + '/root'\n",
        "os.environ['PATH'] += ':' + pwd + '/root/bin'\n",
        "os.environ['LD_LIBRARY_PATH'] += ':' + pwd + '/root/lib'\n",
        "import sys\n",
        "sys.path.append(pwd + '/root/lib')\n",
        "#import ROOT\n",
        "#print(ROOT.__version__)"
      ]
    },
    {
      "cell_type": "markdown",
      "source": [
        "Clone repository, compile PostAnalyzer"
      ],
      "metadata": {
        "id": "g2Mq0eCrCCuc"
      }
    },
    {
      "cell_type": "code",
      "source": [
        "!git clone https://github.com/zenaiev/2011-ttbar\n",
        "os.chdir('2011-ttbar/PostAnalyzer')\n",
        "!git checkout 2024\n",
        "!./compile.sh"
      ],
      "metadata": {
        "colab": {
          "base_uri": "https://localhost:8080/"
        },
        "id": "YJJn8wfYCDc8",
        "outputId": "498d996e-df20-45c6-9d4c-9cbec7a011ec"
      },
      "execution_count": 3,
      "outputs": [
        {
          "output_type": "stream",
          "name": "stdout",
          "text": [
            "Cloning into '2011-ttbar'...\n",
            "remote: Enumerating objects: 254, done.\u001b[K\n",
            "remote: Counting objects: 100% (40/40), done.\u001b[K\n",
            "remote: Compressing objects: 100% (29/29), done.\u001b[K\n",
            "remote: Total 254 (delta 16), reused 29 (delta 11), pack-reused 214 (from 1)\u001b[K\n",
            "Receiving objects: 100% (254/254), 1.35 MiB | 8.16 MiB/s, done.\n",
            "Resolving deltas: 100% (132/132), done.\n",
            "Branch '2024' set up to track remote branch '2024' from 'origin'.\n",
            "Switched to a new branch '2024'\n"
          ]
        }
      ]
    },
    {
      "cell_type": "markdown",
      "source": [
        "Download data (output of Analyzer)"
      ],
      "metadata": {
        "id": "mVTQ7FzCJn94"
      }
    },
    {
      "cell_type": "code",
      "source": [
        "!wget https://cernbox.cern.ch/s/UmbXF1XxVrT4whQ/download"
      ],
      "metadata": {
        "colab": {
          "base_uri": "https://localhost:8080/"
        },
        "id": "oFDZiXrXJmog",
        "outputId": "5fded9aa-a826-4658-b2be-b8eda2861bd0"
      },
      "execution_count": 4,
      "outputs": [
        {
          "output_type": "stream",
          "name": "stdout",
          "text": [
            "--2024-11-21 01:02:27--  https://cernbox.cern.ch/s/UmbXF1XxVrT4whQ/download\n",
            "Resolving cernbox.cern.ch (cernbox.cern.ch)... 128.142.53.35, 128.142.53.28, 137.138.120.151, ...\n",
            "Connecting to cernbox.cern.ch (cernbox.cern.ch)|128.142.53.35|:443... connected.\n",
            "HTTP request sent, awaiting response... 200 OK\n",
            "Length: unspecified [application/octet-stream]\n",
            "Saving to: ‘download’\n",
            "\n",
            "download                [    <=>             ]   2.62G  13.4MB/s    in 2m 10s  \n",
            "\n",
            "2024-11-21 01:04:39 (20.7 MB/s) - ‘download’ saved [2815334400]\n",
            "\n"
          ]
        }
      ]
    },
    {
      "cell_type": "markdown",
      "source": [
        "Extract data and create needed links"
      ],
      "metadata": {
        "id": "kdY1TyEGNWAU"
      }
    },
    {
      "cell_type": "code",
      "source": [
        "!tar xvpf download\n",
        "!ls\n",
        "!ln -s UmbXF1XxVrT4whQ/MERGED/ntuples-data ./\n",
        "!ln -s UmbXF1XxVrT4whQ/MERGED/ntuples-mc ./"
      ],
      "metadata": {
        "colab": {
          "base_uri": "https://localhost:8080/"
        },
        "id": "wGtDEKKUNUDt",
        "outputId": "106602bd-dc9d-4679-fa23-90c60dd30329"
      },
      "execution_count": 5,
      "outputs": [
        {
          "output_type": "stream",
          "name": "stdout",
          "text": [
            "UmbXF1XxVrT4whQ\n",
            "UmbXF1XxVrT4whQ/MERGED\n",
            "UmbXF1XxVrT4whQ/MERGED/ntuples-data\n",
            "UmbXF1XxVrT4whQ/MERGED/ntuples-data/DoubleElectron\n",
            "UmbXF1XxVrT4whQ/MERGED/ntuples-data/DoubleElectron/ttbarSel_merged.root\n",
            "UmbXF1XxVrT4whQ/MERGED/ntuples-data/DoubleMu\n",
            "UmbXF1XxVrT4whQ/MERGED/ntuples-data/DoubleMu/ttbarSel_merged.root\n",
            "UmbXF1XxVrT4whQ/MERGED/ntuples-data/MuEG\n",
            "UmbXF1XxVrT4whQ/MERGED/ntuples-data/MuEG/ttbarSel_merged.root\n",
            "UmbXF1XxVrT4whQ/MERGED/ntuples-mc\n",
            "UmbXF1XxVrT4whQ/MERGED/ntuples-mc/DYJetsToLL_M-10To50_TuneZ2_7TeV-pythia6\n",
            "UmbXF1XxVrT4whQ/MERGED/ntuples-mc/DYJetsToLL_M-10To50_TuneZ2_7TeV-pythia6/ttbarSel_merged.root\n",
            "UmbXF1XxVrT4whQ/MERGED/ntuples-mc/DYJetsToLL_TuneZ2_M-50_7TeV-madgraph-tauola\n",
            "UmbXF1XxVrT4whQ/MERGED/ntuples-mc/DYJetsToLL_TuneZ2_M-50_7TeV-madgraph-tauola/ttbarSel_merged.root\n",
            "UmbXF1XxVrT4whQ/MERGED/ntuples-mc/TTJets_TuneZ2_7TeV-madgraph-tauola\n",
            "UmbXF1XxVrT4whQ/MERGED/ntuples-mc/TTJets_TuneZ2_7TeV-madgraph-tauola/00000\n",
            "UmbXF1XxVrT4whQ/MERGED/ntuples-mc/TTJets_TuneZ2_7TeV-madgraph-tauola/00000/ttbarSel_merged.root\n",
            "UmbXF1XxVrT4whQ/MERGED/ntuples-mc/TTJets_TuneZ2_7TeV-madgraph-tauola/00001\n",
            "UmbXF1XxVrT4whQ/MERGED/ntuples-mc/TTJets_TuneZ2_7TeV-madgraph-tauola/00001/ttbarSel_merged.root\n",
            "UmbXF1XxVrT4whQ/MERGED/ntuples-mc/TTJets_TuneZ2_7TeV-madgraph-tauola/010000\n",
            "UmbXF1XxVrT4whQ/MERGED/ntuples-mc/TTJets_TuneZ2_7TeV-madgraph-tauola/010000/ttbarSel_merged.root\n",
            "UmbXF1XxVrT4whQ/MERGED/ntuples-mc/TTJets_TuneZ2_7TeV-madgraph-tauola/010001\n",
            "UmbXF1XxVrT4whQ/MERGED/ntuples-mc/TTJets_TuneZ2_7TeV-madgraph-tauola/010001/ttbarSel_merged.root\n",
            "UmbXF1XxVrT4whQ/MERGED/ntuples-mc/TTJets_TuneZ2_7TeV-madgraph-tauola/010002\n",
            "UmbXF1XxVrT4whQ/MERGED/ntuples-mc/TTJets_TuneZ2_7TeV-madgraph-tauola/010002/ttbarSel_merged.root\n",
            "UmbXF1XxVrT4whQ/MERGED/ntuples-mc/TTJets_TuneZ2_7TeV-madgraph-tauola/010003\n",
            "UmbXF1XxVrT4whQ/MERGED/ntuples-mc/TTJets_TuneZ2_7TeV-madgraph-tauola/010003/ttbarSel_merged.root\n",
            "UmbXF1XxVrT4whQ/MERGED/ntuples-mc/T_TuneZ2_tW-channel-DR_7TeV-powheg-tauola\n",
            "UmbXF1XxVrT4whQ/MERGED/ntuples-mc/T_TuneZ2_tW-channel-DR_7TeV-powheg-tauola/ttbarSel_merged.root\n",
            "UmbXF1XxVrT4whQ/MERGED/ntuples-mc/Tbar_TuneZ2_tW-channel-DR_7TeV-powheg-tauola\n",
            "UmbXF1XxVrT4whQ/MERGED/ntuples-mc/Tbar_TuneZ2_tW-channel-DR_7TeV-powheg-tauola/ttbarSel_merged.root\n",
            "UmbXF1XxVrT4whQ/MERGED/ntuples-mc/WJetsToLNu_TuneZ2_7TeV-madgraph-tauola\n",
            "UmbXF1XxVrT4whQ/MERGED/ntuples-mc/WJetsToLNu_TuneZ2_7TeV-madgraph-tauola/ttbarSel_merged.root\n",
            "compile.sh  eventReco.h  kinReco.h  plots.h\t settings.h\tttbarMakeHist.cxx   UmbXF1XxVrT4whQ\n",
            "data\t    hist\t mc\t    README.txt\t tree.h\t\tttbarMakePlots\n",
            "download    hist-REF\t plots\t    selection.h  ttbarMakeHist\tttbarMakePlots.cxx\n"
          ]
        }
      ]
    },
    {
      "cell_type": "markdown",
      "source": [
        "Run selection and plotting scripts"
      ],
      "metadata": {
        "id": "KAgL6f3mCR1T"
      }
    },
    {
      "cell_type": "code",
      "source": [
        "!./ttbarMakeHist\n",
        "!./ttbarMakePlots"
      ],
      "metadata": {
        "colab": {
          "base_uri": "https://localhost:8080/"
        },
        "id": "KiPMXu7nCWwk",
        "outputId": "7c886d2c-013b-44c4-d8e4-e9851e1f128b"
      },
      "execution_count": null,
      "outputs": [
        {
          "output_type": "stream",
          "name": "stdout",
          "text": [
            "****** EVENTRECO ******\n",
            "input sample: data\n",
            "type: 1   channel: 1\n",
            "nEvents: 954351\n",
            "nSel  : 1833\n",
            "nReco : 1019\n",
            "****** EVENTRECO ******\n",
            "input sample: mcSigReco\n",
            "type: 2   channel: 1\n",
            "nEvents: 3081748\n",
            "nSel  : 144480\n",
            "nReco : 98668\n",
            "nGen  : 678331\n",
            "C = 14.55% (no KINRECO 21.30%)\n",
            "****** EVENTRECO ******\n",
            "input sample: mcSigOtherReco\n",
            "type: 3   channel: 1\n",
            "nEvents: 3081748\n",
            "nSel  : 48803\n",
            "nReco : 34717\n",
            "****** EVENTRECO ******\n",
            "input sample: mcSigGen\n",
            "type: 2   channel: 1\n",
            "nEvents: 3081748\n",
            "nSel  : 0\n",
            "nReco : 0\n",
            "nGen  : 678331\n",
            "C = 0.00% (no KINRECO 0.00%)\n",
            "****** EVENTRECO ******\n",
            "input sample: mcSingleTopReco\n",
            "type: 4   channel: 1\n",
            "nEvents: 50626\n",
            "nSel  : 2760\n",
            "nReco : 1233\n",
            "****** EVENTRECO ******\n",
            "input sample: mcWjetsReco\n",
            "type: 4   channel: 1\n",
            "nEvents: 14291\n",
            "nSel  : 256\n",
            "nReco : 64\n",
            "****** EVENTRECO ******\n",
            "input sample: mcDYlmReco\n",
            "type: 4   channel: 1\n",
            "nEvents: 36812\n",
            "nSel  : 34\n",
            "nReco : 19\n",
            "****** EVENTRECO ******\n",
            "input sample: mcDYhmReco\n",
            "type: 4   channel: 1\n",
            "nEvents: 9887526\n",
            "nSel  : 1386\n",
            "nReco : 724\n",
            "****** EVENTRECO ******\n",
            "input sample: data\n",
            "type: 1   channel: 2\n",
            "nEvents: 984353\n",
            "nSel  : 1484\n",
            "nReco : 940\n",
            "****** EVENTRECO ******\n",
            "input sample: mcSigReco\n",
            "type: 2   channel: 2\n",
            "nEvents: 3081748\n",
            "nSel  : 157676\n",
            "nReco : 108800\n",
            "nGen  : 678956\n",
            "C = 16.02% (no KINRECO 23.22%)\n",
            "****** EVENTRECO ******\n",
            "input sample: mcSigOtherReco\n",
            "type: 3   channel: 2\n",
            "nEvents: 3081748\n",
            "nSel  : 27149\n",
            "nReco : 20920\n",
            "****** EVENTRECO ******\n",
            "input sample: mcSigGen\n",
            "type: 2   channel: 2\n",
            "nEvents: 3081748\n",
            "nSel  : 0\n",
            "nReco : 0\n",
            "nGen  : 678956\n",
            "C = 0.00% (no KINRECO 0.00%)\n",
            "****** EVENTRECO ******\n",
            "input sample: mcSingleTopReco\n",
            "type: 4   channel: 2\n",
            "nEvents: 50626\n",
            "nSel  : 2544\n",
            "nReco : 1142\n",
            "****** EVENTRECO ******\n",
            "input sample: mcWjetsReco\n",
            "type: 4   channel: 2\n",
            "nEvents: 14291\n",
            "nSel  : 4\n",
            "nReco : 2\n",
            "****** EVENTRECO ******\n",
            "input sample: mcDYlmReco\n",
            "type: 4   channel: 2\n",
            "nEvents: 36812\n",
            "nSel  : 27\n",
            "nReco : 21\n",
            "****** EVENTRECO ******\n",
            "input sample: mcDYhmReco\n",
            "type: 4   channel: 2\n",
            "nEvents: 9887526\n",
            "nSel  : 965\n",
            "nReco : 515\n",
            "****** EVENTRECO ******\n",
            "input sample: data\n",
            "type: 1   channel: 3\n",
            "nEvents: 66356\n",
            "nSel  : 4999\n",
            "nReco : 3199\n",
            "****** EVENTRECO ******\n",
            "input sample: mcSigReco\n",
            "type: 2   channel: 3\n",
            "nEvents: 3081748\n",
            "nSel  : 454972\n",
            "nReco : 324394\n",
            "nGen  : 1358807\n",
            "C = 23.87% (no KINRECO 33.48%)\n",
            "****** EVENTRECO ******\n",
            "input sample: mcSigOtherReco\n",
            "type: 3   channel: 3\n",
            "nEvents: 3081748\n",
            "nSel  : 107251\n",
            "nReco : 81181\n",
            "****** EVENTRECO ******\n",
            "input sample: mcSigGen\n",
            "type: 2   channel: 3\n",
            "nEvents: 3081748\n",
            "nSel  : 0\n",
            "nReco : 0\n",
            "nGen  : 1358807\n",
            "C = 0.00% (no KINRECO 0.00%)\n",
            "****** EVENTRECO ******\n",
            "input sample: mcSingleTopReco\n",
            "type: 4   channel: 3\n",
            "nEvents: 50626\n",
            "nSel  : 7563\n",
            "nReco : 3664\n",
            "****** EVENTRECO ******\n",
            "input sample: mcWjetsReco\n",
            "type: 4   channel: 3\n",
            "nEvents: 14291\n",
            "nSel  : 297\n",
            "nReco : 103\n",
            "****** EVENTRECO ******\n",
            "input sample: mcDYlmReco\n",
            "type: 4   channel: 3\n",
            "nEvents: 36812\n",
            "nSel  : 4\n",
            "nReco : 1\n",
            "****** EVENTRECO ******\n",
            "input sample: mcDYhmReco\n",
            "type: 4   channel: 3\n",
            "nEvents: 9887526\n"
          ]
        }
      ]
    },
    {
      "cell_type": "markdown",
      "source": [
        "View plots"
      ],
      "metadata": {
        "id": "gmu7gCQDNo6u"
      }
    },
    {
      "cell_type": "code",
      "source": [
        "!ls\n",
        "from IPython.display import Image\n",
        "Image('plots/cp.png')"
      ],
      "metadata": {
        "id": "PTDKxZQoNqWG"
      },
      "execution_count": null,
      "outputs": []
    },
    {
      "cell_type": "code",
      "source": [
        "Image('plots/cs_norm.png')"
      ],
      "metadata": {
        "id": "KoE21Cj4Nu49"
      },
      "execution_count": null,
      "outputs": []
    }
  ]
}